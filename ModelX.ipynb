{
 "cells": [
  {
   "cell_type": "code",
   "execution_count": 1,
   "metadata": {
    "collapsed": true
   },
   "outputs": [],
   "source": [
    "# Importing Standard Libraries\n",
    "import pandas as pd\n",
    "import numpy as np\n",
    "import seaborn as sns\n",
    "import matplotlib.pyplot as plt\n",
    "import random\n",
    "import re\n",
    "from random import randint\n",
    "%matplotlib inline"
   ]
  },
  {
   "cell_type": "code",
   "execution_count": 2,
   "metadata": {
    "collapsed": true
   },
   "outputs": [],
   "source": [
    "# Importing train, test and sample_sub\n",
    "train = pd.read_csv('data/train.csv')\n",
    "test = pd.read_csv('data/test.csv')\n",
    "sample_submission = pd.read_csv('data/sample_submission.csv')"
   ]
  },
  {
   "cell_type": "code",
   "execution_count": 3,
   "metadata": {
    "collapsed": true
   },
   "outputs": [],
   "source": [
    "alldata = pd.concat([train,test])"
   ]
  },
  {
   "cell_type": "code",
   "execution_count": 4,
   "metadata": {},
   "outputs": [
    {
     "data": {
      "text/html": [
       "<div>\n",
       "<style>\n",
       "    .dataframe thead tr:only-child th {\n",
       "        text-align: right;\n",
       "    }\n",
       "\n",
       "    .dataframe thead th {\n",
       "        text-align: left;\n",
       "    }\n",
       "\n",
       "    .dataframe tbody tr th {\n",
       "        vertical-align: top;\n",
       "    }\n",
       "</style>\n",
       "<table border=\"1\" class=\"dataframe\">\n",
       "  <thead>\n",
       "    <tr style=\"text-align: right;\">\n",
       "      <th></th>\n",
       "      <th>Energy</th>\n",
       "      <th>Observation</th>\n",
       "      <th>Press_mm_hg</th>\n",
       "      <th>RH_1</th>\n",
       "      <th>RH_2</th>\n",
       "      <th>RH_3</th>\n",
       "      <th>RH_4</th>\n",
       "      <th>RH_5</th>\n",
       "      <th>RH_6</th>\n",
       "      <th>RH_7</th>\n",
       "      <th>...</th>\n",
       "      <th>T4</th>\n",
       "      <th>T5</th>\n",
       "      <th>T6</th>\n",
       "      <th>T7</th>\n",
       "      <th>T8</th>\n",
       "      <th>T9</th>\n",
       "      <th>T_out</th>\n",
       "      <th>Tdewpoint</th>\n",
       "      <th>Visibility</th>\n",
       "      <th>Windspeed</th>\n",
       "    </tr>\n",
       "  </thead>\n",
       "  <tbody>\n",
       "    <tr>\n",
       "      <th>0</th>\n",
       "      <td>70.0</td>\n",
       "      <td>1111</td>\n",
       "      <td>760.050000</td>\n",
       "      <td>37.200</td>\n",
       "      <td>38.000000</td>\n",
       "      <td>37.290000</td>\n",
       "      <td>34.942857</td>\n",
       "      <td>42.826667</td>\n",
       "      <td>9.633333</td>\n",
       "      <td>35.754000</td>\n",
       "      <td>...</td>\n",
       "      <td>22.832857</td>\n",
       "      <td>20.500000</td>\n",
       "      <td>12.533333</td>\n",
       "      <td>22.060</td>\n",
       "      <td>22.700000</td>\n",
       "      <td>20.20</td>\n",
       "      <td>12.80</td>\n",
       "      <td>5.65</td>\n",
       "      <td>28.0</td>\n",
       "      <td>3.5</td>\n",
       "    </tr>\n",
       "    <tr>\n",
       "      <th>1</th>\n",
       "      <td>210.0</td>\n",
       "      <td>1112</td>\n",
       "      <td>764.166667</td>\n",
       "      <td>41.045</td>\n",
       "      <td>39.133333</td>\n",
       "      <td>39.526667</td>\n",
       "      <td>34.126667</td>\n",
       "      <td>44.663333</td>\n",
       "      <td>11.926667</td>\n",
       "      <td>25.133333</td>\n",
       "      <td>...</td>\n",
       "      <td>21.700000</td>\n",
       "      <td>18.633333</td>\n",
       "      <td>10.190000</td>\n",
       "      <td>20.790</td>\n",
       "      <td>22.926667</td>\n",
       "      <td>19.73</td>\n",
       "      <td>8.47</td>\n",
       "      <td>-1.92</td>\n",
       "      <td>26.5</td>\n",
       "      <td>8.0</td>\n",
       "    </tr>\n",
       "    <tr>\n",
       "      <th>2</th>\n",
       "      <td>50.0</td>\n",
       "      <td>1113</td>\n",
       "      <td>757.600000</td>\n",
       "      <td>38.000</td>\n",
       "      <td>35.700000</td>\n",
       "      <td>36.590000</td>\n",
       "      <td>35.530000</td>\n",
       "      <td>46.200000</td>\n",
       "      <td>21.533333</td>\n",
       "      <td>33.663333</td>\n",
       "      <td>...</td>\n",
       "      <td>22.000000</td>\n",
       "      <td>19.000000</td>\n",
       "      <td>10.360000</td>\n",
       "      <td>19.600</td>\n",
       "      <td>21.890000</td>\n",
       "      <td>19.79</td>\n",
       "      <td>10.60</td>\n",
       "      <td>2.40</td>\n",
       "      <td>27.0</td>\n",
       "      <td>2.0</td>\n",
       "    </tr>\n",
       "    <tr>\n",
       "      <th>3</th>\n",
       "      <td>50.0</td>\n",
       "      <td>1114</td>\n",
       "      <td>760.600000</td>\n",
       "      <td>38.530</td>\n",
       "      <td>38.000000</td>\n",
       "      <td>36.200000</td>\n",
       "      <td>35.090000</td>\n",
       "      <td>43.625714</td>\n",
       "      <td>9.590000</td>\n",
       "      <td>32.790000</td>\n",
       "      <td>...</td>\n",
       "      <td>23.100000</td>\n",
       "      <td>22.042857</td>\n",
       "      <td>10.390000</td>\n",
       "      <td>23.390</td>\n",
       "      <td>24.890000</td>\n",
       "      <td>22.60</td>\n",
       "      <td>11.60</td>\n",
       "      <td>4.67</td>\n",
       "      <td>40.0</td>\n",
       "      <td>1.0</td>\n",
       "    </tr>\n",
       "    <tr>\n",
       "      <th>4</th>\n",
       "      <td>250.0</td>\n",
       "      <td>1115</td>\n",
       "      <td>756.983333</td>\n",
       "      <td>42.560</td>\n",
       "      <td>34.356000</td>\n",
       "      <td>40.333333</td>\n",
       "      <td>40.900000</td>\n",
       "      <td>49.090000</td>\n",
       "      <td>1.000000</td>\n",
       "      <td>38.208750</td>\n",
       "      <td>...</td>\n",
       "      <td>24.500000</td>\n",
       "      <td>21.500000</td>\n",
       "      <td>20.290000</td>\n",
       "      <td>23.365</td>\n",
       "      <td>23.390000</td>\n",
       "      <td>22.60</td>\n",
       "      <td>17.70</td>\n",
       "      <td>10.40</td>\n",
       "      <td>21.5</td>\n",
       "      <td>1.0</td>\n",
       "    </tr>\n",
       "  </tbody>\n",
       "</table>\n",
       "<p>5 rows × 26 columns</p>\n",
       "</div>"
      ],
      "text/plain": [
       "   Energy  Observation  Press_mm_hg    RH_1       RH_2       RH_3       RH_4  \\\n",
       "0    70.0         1111   760.050000  37.200  38.000000  37.290000  34.942857   \n",
       "1   210.0         1112   764.166667  41.045  39.133333  39.526667  34.126667   \n",
       "2    50.0         1113   757.600000  38.000  35.700000  36.590000  35.530000   \n",
       "3    50.0         1114   760.600000  38.530  38.000000  36.200000  35.090000   \n",
       "4   250.0         1115   756.983333  42.560  34.356000  40.333333  40.900000   \n",
       "\n",
       "        RH_5       RH_6       RH_7    ...             T4         T5  \\\n",
       "0  42.826667   9.633333  35.754000    ...      22.832857  20.500000   \n",
       "1  44.663333  11.926667  25.133333    ...      21.700000  18.633333   \n",
       "2  46.200000  21.533333  33.663333    ...      22.000000  19.000000   \n",
       "3  43.625714   9.590000  32.790000    ...      23.100000  22.042857   \n",
       "4  49.090000   1.000000  38.208750    ...      24.500000  21.500000   \n",
       "\n",
       "          T6      T7         T8     T9  T_out  Tdewpoint  Visibility  \\\n",
       "0  12.533333  22.060  22.700000  20.20  12.80       5.65        28.0   \n",
       "1  10.190000  20.790  22.926667  19.73   8.47      -1.92        26.5   \n",
       "2  10.360000  19.600  21.890000  19.79  10.60       2.40        27.0   \n",
       "3  10.390000  23.390  24.890000  22.60  11.60       4.67        40.0   \n",
       "4  20.290000  23.365  23.390000  22.60  17.70      10.40        21.5   \n",
       "\n",
       "   Windspeed  \n",
       "0        3.5  \n",
       "1        8.0  \n",
       "2        2.0  \n",
       "3        1.0  \n",
       "4        1.0  \n",
       "\n",
       "[5 rows x 26 columns]"
      ]
     },
     "execution_count": 4,
     "metadata": {},
     "output_type": "execute_result"
    }
   ],
   "source": [
    "alldata.head()"
   ]
  },
  {
   "cell_type": "code",
   "execution_count": 5,
   "metadata": {
    "collapsed": true
   },
   "outputs": [],
   "source": [
    "rename_dict = {'Observation': 'ID',\n",
    " 'Pressure': 'Outside pressure',\n",
    " 'RH_1': 'Humid in kitchen area',\n",
    " 'RH_2': 'Humid in living',\n",
    " 'RH_3': 'Humid in laundry',\n",
    " 'RH_4': 'Humid in office',\n",
    " 'RH_5': 'Humidin bath',\n",
    " 'RH_6': 'Humid outside the building (north side)',\n",
    " 'RH_7': 'Humid in ironing',\n",
    " 'RH_8': 'Humid in teenager room',\n",
    " 'RH_9': 'Humid in parents',\n",
    " 'RH_out': 'Humid outside',\n",
    " 'T1': 'Temp in kitchen',\n",
    " 'T2': 'Temp in living room',\n",
    " 'T3': 'Temp in laundry',\n",
    " 'T4': 'Temp in office',\n",
    " 'T5': 'Temp in bath',\n",
    " 'T6': 'Temp outside the building (north side)',\n",
    " 'T7': 'Temp in ironing',\n",
    " 'T8': 'Temp in teenager',\n",
    " 'T9': 'Temp in parents',\n",
    " 'T_out': 'Temp outside'}\n",
    "alldata = alldata.rename(columns=rename_dict)"
   ]
  },
  {
   "cell_type": "code",
   "execution_count": 6,
   "metadata": {
    "collapsed": true
   },
   "outputs": [],
   "source": [
    " alldata.drop('ID', axis=1, inplace=True)"
   ]
  },
  {
   "cell_type": "code",
   "execution_count": 7,
   "metadata": {},
   "outputs": [
    {
     "name": "stdout",
     "output_type": "stream",
     "text": [
      "Length of alldata rows: 19725\n"
     ]
    },
    {
     "data": {
      "text/html": [
       "<div>\n",
       "<style>\n",
       "    .dataframe thead tr:only-child th {\n",
       "        text-align: right;\n",
       "    }\n",
       "\n",
       "    .dataframe thead th {\n",
       "        text-align: left;\n",
       "    }\n",
       "\n",
       "    .dataframe tbody tr th {\n",
       "        vertical-align: top;\n",
       "    }\n",
       "</style>\n",
       "<table border=\"1\" class=\"dataframe\">\n",
       "  <thead>\n",
       "    <tr style=\"text-align: right;\">\n",
       "      <th></th>\n",
       "      <th>Dtype</th>\n",
       "      <th>Number of Missing values</th>\n",
       "      <th>Percentage Missing</th>\n",
       "      <th>Unique values</th>\n",
       "    </tr>\n",
       "  </thead>\n",
       "  <tbody>\n",
       "    <tr>\n",
       "      <th>Energy</th>\n",
       "      <td>float64</td>\n",
       "      <td>3945</td>\n",
       "      <td>20.0</td>\n",
       "      <td>82</td>\n",
       "    </tr>\n",
       "    <tr>\n",
       "      <th>Temp in living room</th>\n",
       "      <td>float64</td>\n",
       "      <td>0</td>\n",
       "      <td>0.0</td>\n",
       "      <td>1649</td>\n",
       "    </tr>\n",
       "    <tr>\n",
       "      <th>Visibility</th>\n",
       "      <td>float64</td>\n",
       "      <td>0</td>\n",
       "      <td>0.0</td>\n",
       "      <td>412</td>\n",
       "    </tr>\n",
       "    <tr>\n",
       "      <th>Tdewpoint</th>\n",
       "      <td>float64</td>\n",
       "      <td>0</td>\n",
       "      <td>0.0</td>\n",
       "      <td>1118</td>\n",
       "    </tr>\n",
       "    <tr>\n",
       "      <th>Temp outside</th>\n",
       "      <td>float64</td>\n",
       "      <td>0</td>\n",
       "      <td>0.0</td>\n",
       "      <td>1055</td>\n",
       "    </tr>\n",
       "    <tr>\n",
       "      <th>Temp in parents</th>\n",
       "      <td>float64</td>\n",
       "      <td>0</td>\n",
       "      <td>0.0</td>\n",
       "      <td>924</td>\n",
       "    </tr>\n",
       "    <tr>\n",
       "      <th>Temp in teenager</th>\n",
       "      <td>float64</td>\n",
       "      <td>0</td>\n",
       "      <td>0.0</td>\n",
       "      <td>2228</td>\n",
       "    </tr>\n",
       "    <tr>\n",
       "      <th>Temp in ironing</th>\n",
       "      <td>float64</td>\n",
       "      <td>0</td>\n",
       "      <td>0.0</td>\n",
       "      <td>1954</td>\n",
       "    </tr>\n",
       "    <tr>\n",
       "      <th>Temp outside the building (north side)</th>\n",
       "      <td>float64</td>\n",
       "      <td>0</td>\n",
       "      <td>0.0</td>\n",
       "      <td>4445</td>\n",
       "    </tr>\n",
       "    <tr>\n",
       "      <th>Temp in bath</th>\n",
       "      <td>float64</td>\n",
       "      <td>0</td>\n",
       "      <td>0.0</td>\n",
       "      <td>2263</td>\n",
       "    </tr>\n",
       "    <tr>\n",
       "      <th>Temp in office</th>\n",
       "      <td>float64</td>\n",
       "      <td>0</td>\n",
       "      <td>0.0</td>\n",
       "      <td>1390</td>\n",
       "    </tr>\n",
       "    <tr>\n",
       "      <th>Temp in laundry</th>\n",
       "      <td>float64</td>\n",
       "      <td>0</td>\n",
       "      <td>0.0</td>\n",
       "      <td>1425</td>\n",
       "    </tr>\n",
       "    <tr>\n",
       "      <th>Temp in kitchen</th>\n",
       "      <td>float64</td>\n",
       "      <td>0</td>\n",
       "      <td>0.0</td>\n",
       "      <td>722</td>\n",
       "    </tr>\n",
       "    <tr>\n",
       "      <th>Press_mm_hg</th>\n",
       "      <td>float64</td>\n",
       "      <td>0</td>\n",
       "      <td>0.0</td>\n",
       "      <td>2189</td>\n",
       "    </tr>\n",
       "    <tr>\n",
       "      <th>Humid outside</th>\n",
       "      <td>float64</td>\n",
       "      <td>0</td>\n",
       "      <td>0.0</td>\n",
       "      <td>566</td>\n",
       "    </tr>\n",
       "    <tr>\n",
       "      <th>Humid in parents</th>\n",
       "      <td>float64</td>\n",
       "      <td>0</td>\n",
       "      <td>0.0</td>\n",
       "      <td>3388</td>\n",
       "    </tr>\n",
       "    <tr>\n",
       "      <th>Humid in teenager room</th>\n",
       "      <td>float64</td>\n",
       "      <td>0</td>\n",
       "      <td>0.0</td>\n",
       "      <td>6646</td>\n",
       "    </tr>\n",
       "    <tr>\n",
       "      <th>Humid in ironing</th>\n",
       "      <td>float64</td>\n",
       "      <td>0</td>\n",
       "      <td>0.0</td>\n",
       "      <td>5889</td>\n",
       "    </tr>\n",
       "    <tr>\n",
       "      <th>Humid outside the building (north side)</th>\n",
       "      <td>float64</td>\n",
       "      <td>0</td>\n",
       "      <td>0.0</td>\n",
       "      <td>9706</td>\n",
       "    </tr>\n",
       "    <tr>\n",
       "      <th>Humidin bath</th>\n",
       "      <td>float64</td>\n",
       "      <td>0</td>\n",
       "      <td>0.0</td>\n",
       "      <td>7569</td>\n",
       "    </tr>\n",
       "    <tr>\n",
       "      <th>Humid in office</th>\n",
       "      <td>float64</td>\n",
       "      <td>0</td>\n",
       "      <td>0.0</td>\n",
       "      <td>2985</td>\n",
       "    </tr>\n",
       "    <tr>\n",
       "      <th>Humid in laundry</th>\n",
       "      <td>float64</td>\n",
       "      <td>0</td>\n",
       "      <td>0.0</td>\n",
       "      <td>2617</td>\n",
       "    </tr>\n",
       "    <tr>\n",
       "      <th>Humid in living</th>\n",
       "      <td>float64</td>\n",
       "      <td>0</td>\n",
       "      <td>0.0</td>\n",
       "      <td>3374</td>\n",
       "    </tr>\n",
       "    <tr>\n",
       "      <th>Humid in kitchen area</th>\n",
       "      <td>float64</td>\n",
       "      <td>0</td>\n",
       "      <td>0.0</td>\n",
       "      <td>2547</td>\n",
       "    </tr>\n",
       "    <tr>\n",
       "      <th>Windspeed</th>\n",
       "      <td>float64</td>\n",
       "      <td>0</td>\n",
       "      <td>0.0</td>\n",
       "      <td>189</td>\n",
       "    </tr>\n",
       "  </tbody>\n",
       "</table>\n",
       "</div>"
      ],
      "text/plain": [
       "                                           Dtype  Number of Missing values  \\\n",
       "Energy                                   float64                      3945   \n",
       "Temp in living room                      float64                         0   \n",
       "Visibility                               float64                         0   \n",
       "Tdewpoint                                float64                         0   \n",
       "Temp outside                             float64                         0   \n",
       "Temp in parents                          float64                         0   \n",
       "Temp in teenager                         float64                         0   \n",
       "Temp in ironing                          float64                         0   \n",
       "Temp outside the building (north side)   float64                         0   \n",
       "Temp in bath                             float64                         0   \n",
       "Temp in office                           float64                         0   \n",
       "Temp in laundry                          float64                         0   \n",
       "Temp in kitchen                          float64                         0   \n",
       "Press_mm_hg                              float64                         0   \n",
       "Humid outside                            float64                         0   \n",
       "Humid in parents                         float64                         0   \n",
       "Humid in teenager room                   float64                         0   \n",
       "Humid in ironing                         float64                         0   \n",
       "Humid outside the building (north side)  float64                         0   \n",
       "Humidin bath                             float64                         0   \n",
       "Humid in office                          float64                         0   \n",
       "Humid in laundry                         float64                         0   \n",
       "Humid in living                          float64                         0   \n",
       "Humid in kitchen area                    float64                         0   \n",
       "Windspeed                                float64                         0   \n",
       "\n",
       "                                         Percentage Missing  Unique values  \n",
       "Energy                                                 20.0             82  \n",
       "Temp in living room                                     0.0           1649  \n",
       "Visibility                                              0.0            412  \n",
       "Tdewpoint                                               0.0           1118  \n",
       "Temp outside                                            0.0           1055  \n",
       "Temp in parents                                         0.0            924  \n",
       "Temp in teenager                                        0.0           2228  \n",
       "Temp in ironing                                         0.0           1954  \n",
       "Temp outside the building (north side)                  0.0           4445  \n",
       "Temp in bath                                            0.0           2263  \n",
       "Temp in office                                          0.0           1390  \n",
       "Temp in laundry                                         0.0           1425  \n",
       "Temp in kitchen                                         0.0            722  \n",
       "Press_mm_hg                                             0.0           2189  \n",
       "Humid outside                                           0.0            566  \n",
       "Humid in parents                                        0.0           3388  \n",
       "Humid in teenager room                                  0.0           6646  \n",
       "Humid in ironing                                        0.0           5889  \n",
       "Humid outside the building (north side)                 0.0           9706  \n",
       "Humidin bath                                            0.0           7569  \n",
       "Humid in office                                         0.0           2985  \n",
       "Humid in laundry                                        0.0           2617  \n",
       "Humid in living                                         0.0           3374  \n",
       "Humid in kitchen area                                   0.0           2547  \n",
       "Windspeed                                               0.0            189  "
      ]
     },
     "execution_count": 7,
     "metadata": {},
     "output_type": "execute_result"
    }
   ],
   "source": [
    "# Inspect alldata set\n",
    "print \"Length of alldata rows:\", len(alldata)\n",
    "inspect_alldata = pd.DataFrame({'Dtype': alldata.dtypes, 'Unique values': alldata.nunique() ,\n",
    "             'Number of Missing values': alldata.isnull().sum() ,\n",
    "              'Percentage Missing': (alldata.isnull().sum() / len(alldata)) * 100\n",
    "             }).sort_values(by='Number of Missing values',ascending = False)\n",
    "inspect_alldata"
   ]
  },
  {
   "cell_type": "markdown",
   "metadata": {},
   "source": [
    "## Feature Engineering"
   ]
  },
  {
   "cell_type": "code",
   "execution_count": 8,
   "metadata": {
    "collapsed": true
   },
   "outputs": [],
   "source": [
    "# alldata['Saturation'] = (alldata['RH_out'] == 100)"
   ]
  },
  {
   "cell_type": "code",
   "execution_count": 9,
   "metadata": {
    "collapsed": true
   },
   "outputs": [],
   "source": [
    "Humidity_cols = [c for c in alldata.columns if c.startswith(\"Humid\")] \n",
    "Temp_cols = [c for c in alldata.columns if c.startswith(\"Temp\")]"
   ]
  },
  {
   "cell_type": "code",
   "execution_count": 10,
   "metadata": {},
   "outputs": [
    {
     "data": {
      "text/plain": [
       "['Humid in kitchen area',\n",
       " 'Humid in living',\n",
       " 'Humid in laundry',\n",
       " 'Humid in office',\n",
       " 'Humidin bath',\n",
       " 'Humid outside the building (north side)',\n",
       " 'Humid in ironing',\n",
       " 'Humid in teenager room',\n",
       " 'Humid in parents',\n",
       " 'Humid outside']"
      ]
     },
     "execution_count": 10,
     "metadata": {},
     "output_type": "execute_result"
    }
   ],
   "source": [
    "Humidity_cols"
   ]
  },
  {
   "cell_type": "code",
   "execution_count": 11,
   "metadata": {
    "collapsed": true
   },
   "outputs": [],
   "source": [
    "alldata['Mean Temperature'] = alldata[['Temp in kitchen',\n",
    " 'Temp in living room',\n",
    " 'Temp in laundry',\n",
    " 'Temp in office',\n",
    " 'Temp in bath',\n",
    " 'Temp in ironing',\n",
    " 'Temp in teenager',\n",
    " 'Temp in parents']].sum(axis=1)/8.0"
   ]
  },
  {
   "cell_type": "code",
   "execution_count": 12,
   "metadata": {
    "collapsed": true
   },
   "outputs": [],
   "source": [
    "alldata['Mean Humidity'] = alldata[['Humid in kitchen area',\n",
    " 'Humid in living',\n",
    " 'Humid in laundry',\n",
    " 'Humid in office',\n",
    " 'Humidin bath',\n",
    " 'Humid in ironing',\n",
    " 'Humid in teenager room',\n",
    " 'Humid in parents']].sum(axis=1)/8.0"
   ]
  },
  {
   "cell_type": "code",
   "execution_count": 13,
   "metadata": {
    "collapsed": true
   },
   "outputs": [],
   "source": [
    "alldata['Temp Total Out'] = (alldata['Temp outside the building (north side)'] + alldata['Temp outside'])\n",
    "alldata['Humid Total Out'] = alldata['Humid outside the building (north side)'] + alldata['Humid outside']"
   ]
  },
  {
   "cell_type": "code",
   "execution_count": 14,
   "metadata": {
    "collapsed": true
   },
   "outputs": [],
   "source": [
    "# split the merged data file into train and test respectively\n",
    "train_feats = alldata[~pd.isnull(alldata.Energy)]\n",
    "test_feats = alldata[pd.isnull(alldata.Energy)]"
   ]
  },
  {
   "cell_type": "code",
   "execution_count": 15,
   "metadata": {
    "collapsed": true
   },
   "outputs": [],
   "source": [
    "X = train_feats.drop('Energy', axis=1)\n",
    "y = train_feats.Energy"
   ]
  },
  {
   "cell_type": "code",
   "execution_count": 16,
   "metadata": {
    "collapsed": true
   },
   "outputs": [],
   "source": [
    "#X.drop(['Humid in laundry'], axis=1, inplace=True)"
   ]
  },
  {
   "cell_type": "code",
   "execution_count": 17,
   "metadata": {
    "collapsed": true
   },
   "outputs": [],
   "source": [
    "from sklearn.ensemble import RandomForestRegressor, ExtraTreesRegressor, GradientBoostingRegressor\n",
    "from sklearn.linear_model import LinearRegression\n",
    "from sklearn.model_selection import train_test_split\n",
    "from sklearn.metrics import mean_absolute_error,mean_squared_error,r2_score"
   ]
  },
  {
   "cell_type": "code",
   "execution_count": 18,
   "metadata": {},
   "outputs": [
    {
     "data": {
      "text/plain": [
       "(15780, 28)"
      ]
     },
     "execution_count": 18,
     "metadata": {},
     "output_type": "execute_result"
    }
   ],
   "source": [
    "X.shape"
   ]
  },
  {
   "cell_type": "code",
   "execution_count": 19,
   "metadata": {
    "collapsed": true
   },
   "outputs": [],
   "source": [
    "n = 5000\n",
    "X_train = X[:n]\n",
    "y_train = y[:n]\n",
    "X_test = X[n:]\n",
    "y_test = y[n:]"
   ]
  },
  {
   "cell_type": "code",
   "execution_count": 20,
   "metadata": {},
   "outputs": [
    {
     "name": "stdout",
     "output_type": "stream",
     "text": [
      "77.4806750934\n"
     ]
    }
   ],
   "source": [
    "model = ExtraTreesRegressor(n_estimators=700)\n",
    "model.fit(X_train,y_train)\n",
    "preds = model.predict(X_test)\n",
    "print mean_squared_error(y_test, preds)**.5"
   ]
  },
  {
   "cell_type": "code",
   "execution_count": 21,
   "metadata": {},
   "outputs": [
    {
     "data": {
      "text/html": [
       "<div>\n",
       "<style>\n",
       "    .dataframe thead tr:only-child th {\n",
       "        text-align: right;\n",
       "    }\n",
       "\n",
       "    .dataframe thead th {\n",
       "        text-align: left;\n",
       "    }\n",
       "\n",
       "    .dataframe tbody tr th {\n",
       "        vertical-align: top;\n",
       "    }\n",
       "</style>\n",
       "<table border=\"1\" class=\"dataframe\">\n",
       "  <thead>\n",
       "    <tr style=\"text-align: right;\">\n",
       "      <th></th>\n",
       "      <th>Features</th>\n",
       "      <th>Importance</th>\n",
       "    </tr>\n",
       "  </thead>\n",
       "  <tbody>\n",
       "    <tr>\n",
       "      <th>1</th>\n",
       "      <td>Humid in kitchen area</td>\n",
       "      <td>0.057481</td>\n",
       "    </tr>\n",
       "    <tr>\n",
       "      <th>3</th>\n",
       "      <td>Humid in laundry</td>\n",
       "      <td>0.048198</td>\n",
       "    </tr>\n",
       "    <tr>\n",
       "      <th>13</th>\n",
       "      <td>Temp in laundry</td>\n",
       "      <td>0.044592</td>\n",
       "    </tr>\n",
       "    <tr>\n",
       "      <th>8</th>\n",
       "      <td>Humid in teenager room</td>\n",
       "      <td>0.043621</td>\n",
       "    </tr>\n",
       "    <tr>\n",
       "      <th>2</th>\n",
       "      <td>Humid in living</td>\n",
       "      <td>0.041658</td>\n",
       "    </tr>\n",
       "    <tr>\n",
       "      <th>23</th>\n",
       "      <td>Windspeed</td>\n",
       "      <td>0.039092</td>\n",
       "    </tr>\n",
       "    <tr>\n",
       "      <th>10</th>\n",
       "      <td>Humid outside</td>\n",
       "      <td>0.038803</td>\n",
       "    </tr>\n",
       "    <tr>\n",
       "      <th>0</th>\n",
       "      <td>Press_mm_hg</td>\n",
       "      <td>0.038728</td>\n",
       "    </tr>\n",
       "    <tr>\n",
       "      <th>12</th>\n",
       "      <td>Temp in living room</td>\n",
       "      <td>0.038525</td>\n",
       "    </tr>\n",
       "    <tr>\n",
       "      <th>9</th>\n",
       "      <td>Humid in parents</td>\n",
       "      <td>0.038437</td>\n",
       "    </tr>\n",
       "    <tr>\n",
       "      <th>7</th>\n",
       "      <td>Humid in ironing</td>\n",
       "      <td>0.035851</td>\n",
       "    </tr>\n",
       "    <tr>\n",
       "      <th>6</th>\n",
       "      <td>Humid outside the building (north side)</td>\n",
       "      <td>0.035461</td>\n",
       "    </tr>\n",
       "    <tr>\n",
       "      <th>27</th>\n",
       "      <td>Humid Total Out</td>\n",
       "      <td>0.034460</td>\n",
       "    </tr>\n",
       "    <tr>\n",
       "      <th>18</th>\n",
       "      <td>Temp in teenager</td>\n",
       "      <td>0.034050</td>\n",
       "    </tr>\n",
       "    <tr>\n",
       "      <th>14</th>\n",
       "      <td>Temp in office</td>\n",
       "      <td>0.034049</td>\n",
       "    </tr>\n",
       "    <tr>\n",
       "      <th>11</th>\n",
       "      <td>Temp in kitchen</td>\n",
       "      <td>0.033804</td>\n",
       "    </tr>\n",
       "    <tr>\n",
       "      <th>5</th>\n",
       "      <td>Humidin bath</td>\n",
       "      <td>0.033374</td>\n",
       "    </tr>\n",
       "    <tr>\n",
       "      <th>22</th>\n",
       "      <td>Visibility</td>\n",
       "      <td>0.033148</td>\n",
       "    </tr>\n",
       "    <tr>\n",
       "      <th>4</th>\n",
       "      <td>Humid in office</td>\n",
       "      <td>0.032987</td>\n",
       "    </tr>\n",
       "    <tr>\n",
       "      <th>25</th>\n",
       "      <td>Mean Humidity</td>\n",
       "      <td>0.032873</td>\n",
       "    </tr>\n",
       "    <tr>\n",
       "      <th>15</th>\n",
       "      <td>Temp in bath</td>\n",
       "      <td>0.031273</td>\n",
       "    </tr>\n",
       "    <tr>\n",
       "      <th>16</th>\n",
       "      <td>Temp outside the building (north side)</td>\n",
       "      <td>0.031024</td>\n",
       "    </tr>\n",
       "    <tr>\n",
       "      <th>17</th>\n",
       "      <td>Temp in ironing</td>\n",
       "      <td>0.029890</td>\n",
       "    </tr>\n",
       "    <tr>\n",
       "      <th>19</th>\n",
       "      <td>Temp in parents</td>\n",
       "      <td>0.029162</td>\n",
       "    </tr>\n",
       "    <tr>\n",
       "      <th>21</th>\n",
       "      <td>Tdewpoint</td>\n",
       "      <td>0.028471</td>\n",
       "    </tr>\n",
       "    <tr>\n",
       "      <th>24</th>\n",
       "      <td>Mean Temperature</td>\n",
       "      <td>0.028026</td>\n",
       "    </tr>\n",
       "    <tr>\n",
       "      <th>26</th>\n",
       "      <td>Temp Total Out</td>\n",
       "      <td>0.026877</td>\n",
       "    </tr>\n",
       "    <tr>\n",
       "      <th>20</th>\n",
       "      <td>Temp outside</td>\n",
       "      <td>0.026084</td>\n",
       "    </tr>\n",
       "  </tbody>\n",
       "</table>\n",
       "</div>"
      ],
      "text/plain": [
       "                                   Features  Importance\n",
       "1                     Humid in kitchen area    0.057481\n",
       "3                          Humid in laundry    0.048198\n",
       "13                          Temp in laundry    0.044592\n",
       "8                    Humid in teenager room    0.043621\n",
       "2                           Humid in living    0.041658\n",
       "23                                Windspeed    0.039092\n",
       "10                            Humid outside    0.038803\n",
       "0                               Press_mm_hg    0.038728\n",
       "12                      Temp in living room    0.038525\n",
       "9                          Humid in parents    0.038437\n",
       "7                          Humid in ironing    0.035851\n",
       "6   Humid outside the building (north side)    0.035461\n",
       "27                          Humid Total Out    0.034460\n",
       "18                         Temp in teenager    0.034050\n",
       "14                           Temp in office    0.034049\n",
       "11                          Temp in kitchen    0.033804\n",
       "5                              Humidin bath    0.033374\n",
       "22                               Visibility    0.033148\n",
       "4                           Humid in office    0.032987\n",
       "25                            Mean Humidity    0.032873\n",
       "15                             Temp in bath    0.031273\n",
       "16   Temp outside the building (north side)    0.031024\n",
       "17                          Temp in ironing    0.029890\n",
       "19                          Temp in parents    0.029162\n",
       "21                                Tdewpoint    0.028471\n",
       "24                         Mean Temperature    0.028026\n",
       "26                           Temp Total Out    0.026877\n",
       "20                             Temp outside    0.026084"
      ]
     },
     "execution_count": 21,
     "metadata": {},
     "output_type": "execute_result"
    }
   ],
   "source": [
    "# Feature Importance\n",
    "Imp_df = pd.DataFrame({'Features': X.columns, 'Importance': model.feature_importances_}).sort_values(\n",
    "                                                                            by='Importance',\n",
    "                                                                            ascending= False)\n",
    "Imp_df"
   ]
  },
  {
   "cell_type": "code",
   "execution_count": null,
   "metadata": {
    "collapsed": true
   },
   "outputs": [],
   "source": []
  },
  {
   "cell_type": "code",
   "execution_count": null,
   "metadata": {
    "collapsed": true
   },
   "outputs": [],
   "source": []
  },
  {
   "cell_type": "code",
   "execution_count": null,
   "metadata": {
    "collapsed": true
   },
   "outputs": [],
   "source": []
  },
  {
   "cell_type": "code",
   "execution_count": null,
   "metadata": {
    "collapsed": true
   },
   "outputs": [],
   "source": []
  },
  {
   "cell_type": "code",
   "execution_count": null,
   "metadata": {
    "collapsed": true
   },
   "outputs": [],
   "source": []
  },
  {
   "cell_type": "markdown",
   "metadata": {},
   "source": [
    "# Submission Zone"
   ]
  },
  {
   "cell_type": "code",
   "execution_count": 36,
   "metadata": {},
   "outputs": [
    {
     "data": {
      "text/plain": [
       "ExtraTreesRegressor(bootstrap=False, criterion='mse', max_depth=None,\n",
       "          max_features='auto', max_leaf_nodes=None,\n",
       "          min_impurity_split=1e-07, min_samples_leaf=1,\n",
       "          min_samples_split=2, min_weight_fraction_leaf=0.0,\n",
       "          n_estimators=700, n_jobs=1, oob_score=False, random_state=None,\n",
       "          verbose=0, warm_start=False)"
      ]
     },
     "execution_count": 36,
     "metadata": {},
     "output_type": "execute_result"
    }
   ],
   "source": [
    "model.fit(X,y)"
   ]
  },
  {
   "cell_type": "code",
   "execution_count": 37,
   "metadata": {
    "collapsed": true
   },
   "outputs": [],
   "source": [
    "FINALPREDS = model.predict(test_feats[X.columns])"
   ]
  },
  {
   "cell_type": "code",
   "execution_count": 38,
   "metadata": {},
   "outputs": [
    {
     "data": {
      "text/plain": [
       "array([  49.91428571,   91.28571429,   54.65714286, ...,   88.57142857,\n",
       "         68.35714286,  143.71428571])"
      ]
     },
     "execution_count": 38,
     "metadata": {},
     "output_type": "execute_result"
    }
   ],
   "source": [
    "FINALPREDS"
   ]
  },
  {
   "cell_type": "code",
   "execution_count": 39,
   "metadata": {
    "collapsed": true
   },
   "outputs": [],
   "source": [
    "sample_submission['Energy'] = FINALPREDS"
   ]
  },
  {
   "cell_type": "code",
   "execution_count": 40,
   "metadata": {
    "collapsed": true
   },
   "outputs": [],
   "source": [
    "sample_submission.to_csv('HJ.csv', index = None)"
   ]
  },
  {
   "cell_type": "code",
   "execution_count": 41,
   "metadata": {},
   "outputs": [
    {
     "data": {
      "text/html": [
       "<div>\n",
       "<style>\n",
       "    .dataframe thead tr:only-child th {\n",
       "        text-align: right;\n",
       "    }\n",
       "\n",
       "    .dataframe thead th {\n",
       "        text-align: left;\n",
       "    }\n",
       "\n",
       "    .dataframe tbody tr th {\n",
       "        vertical-align: top;\n",
       "    }\n",
       "</style>\n",
       "<table border=\"1\" class=\"dataframe\">\n",
       "  <thead>\n",
       "    <tr style=\"text-align: right;\">\n",
       "      <th></th>\n",
       "      <th>Observation</th>\n",
       "      <th>Energy</th>\n",
       "    </tr>\n",
       "  </thead>\n",
       "  <tbody>\n",
       "    <tr>\n",
       "      <th>0</th>\n",
       "      <td>50001</td>\n",
       "      <td>49.914286</td>\n",
       "    </tr>\n",
       "    <tr>\n",
       "      <th>1</th>\n",
       "      <td>50002</td>\n",
       "      <td>91.285714</td>\n",
       "    </tr>\n",
       "    <tr>\n",
       "      <th>2</th>\n",
       "      <td>50003</td>\n",
       "      <td>54.657143</td>\n",
       "    </tr>\n",
       "    <tr>\n",
       "      <th>3</th>\n",
       "      <td>50004</td>\n",
       "      <td>74.842857</td>\n",
       "    </tr>\n",
       "    <tr>\n",
       "      <th>4</th>\n",
       "      <td>50005</td>\n",
       "      <td>46.157143</td>\n",
       "    </tr>\n",
       "  </tbody>\n",
       "</table>\n",
       "</div>"
      ],
      "text/plain": [
       "   Observation     Energy\n",
       "0        50001  49.914286\n",
       "1        50002  91.285714\n",
       "2        50003  54.657143\n",
       "3        50004  74.842857\n",
       "4        50005  46.157143"
      ]
     },
     "execution_count": 41,
     "metadata": {},
     "output_type": "execute_result"
    }
   ],
   "source": [
    "sample_submission.head()"
   ]
  },
  {
   "cell_type": "code",
   "execution_count": null,
   "metadata": {
    "collapsed": true
   },
   "outputs": [],
   "source": []
  },
  {
   "cell_type": "code",
   "execution_count": null,
   "metadata": {
    "collapsed": true
   },
   "outputs": [],
   "source": []
  },
  {
   "cell_type": "code",
   "execution_count": null,
   "metadata": {
    "collapsed": true
   },
   "outputs": [],
   "source": []
  }
 ],
 "metadata": {
  "kernelspec": {
   "display_name": "Python 2",
   "language": "python",
   "name": "python2"
  },
  "language_info": {
   "codemirror_mode": {
    "name": "ipython",
    "version": 2
   },
   "file_extension": ".py",
   "mimetype": "text/x-python",
   "name": "python",
   "nbconvert_exporter": "python",
   "pygments_lexer": "ipython2",
   "version": "2.7.13"
  }
 },
 "nbformat": 4,
 "nbformat_minor": 2
}
